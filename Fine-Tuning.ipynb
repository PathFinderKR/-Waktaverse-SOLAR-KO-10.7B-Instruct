{
 "cells": [
  {
   "cell_type": "markdown",
   "source": [
    "## Login to Hugging Face"
   ],
   "metadata": {
    "collapsed": false
   },
   "id": "7c2f9104252a4bb"
  },
  {
   "cell_type": "code",
   "outputs": [
    {
     "name": "stdout",
     "output_type": "stream",
     "text": [
      "Token is valid (permission: write).\n",
      "Your token has been saved in your configured git credential helpers (store).\n",
      "Your token has been saved to /home/pathfinder/.cache/huggingface/token\n",
      "Login successful\n"
     ]
    }
   ],
   "source": [
    "from dotenv import load_dotenv\n",
    "import os\n",
    "from huggingface_hub import login\n",
    "\n",
    "load_dotenv()\n",
    "token = os.getenv(\"HUGGINGFACE_TOKEN\")\n",
    "login(\n",
    "    token=token, # ADD YOUR TOKEN HERE\n",
    "    add_to_git_credential=True\n",
    ")"
   ],
   "metadata": {
    "collapsed": false,
    "ExecuteTime": {
     "end_time": "2024-04-02T07:34:53.179829Z",
     "start_time": "2024-04-02T07:34:52.522988Z"
    }
   },
   "id": "4eee58c68eb02d85",
   "execution_count": 1
  },
  {
   "cell_type": "code",
   "outputs": [],
   "source": [
    "model_name = \"waktaverse-gemma-ko-7b-it\" # ADD YOUR MODEL NAME HERE"
   ],
   "metadata": {
    "collapsed": false,
    "ExecuteTime": {
     "end_time": "2024-04-02T06:44:41.663019Z",
     "start_time": "2024-04-02T06:44:41.660562Z"
    }
   },
   "id": "77150ad7ba4af704",
   "execution_count": 2
  },
  {
   "cell_type": "markdown",
   "source": [
    "## Downloads"
   ],
   "metadata": {
    "collapsed": false
   },
   "id": "78114e8f78ee19ec"
  },
  {
   "cell_type": "code",
   "outputs": [],
   "source": [
    "#!pip install huggingface_hub\n",
    "#!pip install transformers\n",
    "#!pip install bitsandbytes\n",
    "#!pip install peft\n",
    "#!pip install trl\n",
    "#!pip install accelerate\n",
    "#!pip install datasets\n",
    "#!pip install scikit-learn\n",
    "#!pip install packaging\n",
    "#!pip install ninja\n",
    "#!pip install flash-attn --no-build-isolation"
   ],
   "metadata": {
    "collapsed": false,
    "ExecuteTime": {
     "end_time": "2024-04-02T06:44:41.680926Z",
     "start_time": "2024-04-02T06:44:41.663980Z"
    }
   },
   "id": "ce6454f84604b9e4",
   "execution_count": 3
  },
  {
   "cell_type": "markdown",
   "source": [
    "## Imports"
   ],
   "metadata": {
    "collapsed": false
   },
   "id": "685ac8c0e05ac872"
  },
  {
   "cell_type": "code",
   "outputs": [],
   "source": [
    "# pytorch\n",
    "import torch\n",
    "\n",
    "# huggingface\n",
    "from transformers import (\n",
    "    AutoTokenizer,\n",
    "    AutoModelForCausalLM,\n",
    "    BitsAndBytesConfig,\n",
    "    TrainingArguments\n",
    ")\n",
    "from peft import LoraConfig\n",
    "from trl import SFTTrainer\n",
    "\n",
    "# datasets\n",
    "from datasets import load_dataset"
   ],
   "metadata": {
    "collapsed": false,
    "ExecuteTime": {
     "end_time": "2024-04-02T06:44:50.122306Z",
     "start_time": "2024-04-02T06:44:41.682450Z"
    }
   },
   "id": "f8c108abcd576306",
   "execution_count": 4
  },
  {
   "cell_type": "markdown",
   "source": [
    "## Device"
   ],
   "metadata": {
    "collapsed": false
   },
   "id": "e512d30c21d105c2"
  },
  {
   "cell_type": "code",
   "outputs": [
    {
     "name": "stdout",
     "output_type": "stream",
     "text": [
      "Device = cuda:0\n"
     ]
    }
   ],
   "source": [
    "device = (\n",
    "    \"cuda:0\" if torch.cuda.is_available() else # Nvidia GPU\n",
    "    \"mps\" if torch.backends.mps.is_available() else # Apple Silicon GPU\n",
    "    \"cpu\"\n",
    ")\n",
    "print(f\"Device = {device}\")"
   ],
   "metadata": {
    "collapsed": false,
    "ExecuteTime": {
     "end_time": "2024-04-02T06:44:50.126689Z",
     "start_time": "2024-04-02T06:44:50.123551Z"
    }
   },
   "id": "fdf3a2a4e0e31554",
   "execution_count": 5
  },
  {
   "cell_type": "markdown",
   "source": [
    "## Hyperparameters"
   ],
   "metadata": {
    "collapsed": false
   },
   "id": "84ce31a12e172a64"
  },
  {
   "cell_type": "code",
   "outputs": [],
   "source": [
    "# Tokenizer arguments\n",
    "max_length = 512 # maximum length of the text that can go to the model\n",
    "padding = \"do_not_pad\" # padding strategy: \"longest\", \"max_length\", \"do_not_pad\"\n",
    "truncation = True # truncate the text if it exceeds the maximum length\n",
    "\n",
    "# model arguments\n",
    "max_new_tokens=500 # maximum number of tokens to generate\n",
    "\n",
    "# mixed precision\n",
    "dtype = torch.bfloat16 # data type\n",
    "\n",
    "# quantization configuration\n",
    "quantization_config = BitsAndBytesConfig(\n",
    "    load_in_4bit=True, # load model in 4-bit\n",
    "    bnb_4bit_compute_dtype=dtype, # compute in (data type)\n",
    "    bnb_4bit_quant_type=\"nf4\", # quantize to 4-bit\n",
    "    bnb_4bit_use_doulbe_quant=False # use double quantization\n",
    ")\n",
    "\n",
    "# LoRA configuration\n",
    "lora_config = LoraConfig(\n",
    "    task_type = \"CAUSAL_LM\", # task type\n",
    "    r = 8, # rank\n",
    "    target_modules = [\"q_proj\", \"o_proj\", \"k_proj\", \"v_proj\", \"gate_proj\", \"up_proj\", \"down_proj\"], # target modules\n",
    "    lora_alpha = 16, # alpha\n",
    "    lora_dropout = 0.1, # dropout\n",
    "    bias=\"none\", # bias\n",
    ")\n",
    "\n",
    "# training arguments\n",
    "training_args = TrainingArguments(\n",
    "    output_dir=\"./results\", # output directory\n",
    "    logging_dir=\"./logs\", # logging directory\n",
    "    save_strategy=\"epoch\", # save strategy\n",
    "    logging_strategy=\"steps\", # logging strategy\n",
    "    logging_steps=10, # logging steps\n",
    "    save_total_limit=1, # save total limit\n",
    "    \n",
    "    learning_rate=2e-5, # learning rate\n",
    "    num_train_epochs=1, # number of training epochs\n",
    "    per_device_train_batch_size=1, # training batch size\n",
    "    per_device_eval_batch_size=1, # evaluation batch size\n",
    "    optim=\"adamw_torch\", # optimizer\n",
    "    weight_decay=0.1, # weight decay\n",
    "    lr_scheduler_type=\"cosine\", # learning rate scheduler\n",
    "    seed=42 # seed\n",
    ")\n",
    "\n",
    "# SFTTrainer arguments\n",
    "max_seq_length = 512 # maximum sequence length"
   ],
   "metadata": {
    "collapsed": false,
    "ExecuteTime": {
     "end_time": "2024-04-02T06:44:50.144823Z",
     "start_time": "2024-04-02T06:44:50.127711Z"
    }
   },
   "id": "dc1a272a1c0b7ce4",
   "execution_count": 6
  },
  {
   "cell_type": "markdown",
   "source": [
    "## Model"
   ],
   "metadata": {
    "collapsed": false
   },
   "id": "f5d3b7c47ea29a3d"
  },
  {
   "cell_type": "code",
   "outputs": [],
   "source": [
    "# Model List\n",
    "\n",
    "# gemma variants\n",
    "# \"google/gemma-7b-it\" // downloaded\n",
    "# \"PathFinderKR/waktaverse-gemma-ko-7b-it\"\n",
    "# \"beomi/gemma-ko-7b\"\n",
    "\n",
    "# llama2 variants\n",
    "# \"meta-llama/Llama-2-7b-chat-hf\" // downloaded\n",
    "# \"PathFinderKR/waktaverse-Llama-2-ko-7b-it\"\n",
    "# \"beomi/KoAlpaca-Polyglot-5.8B\" // downloaded\n",
    "# \"beomi/open-llama-2-ko-7b\"\n",
    "\n",
    "# solar variants\n",
    "# \"chihoonlee10/T3Q-ko-solar-dpo-v4.0\""
   ],
   "metadata": {
    "collapsed": false,
    "ExecuteTime": {
     "end_time": "2024-04-02T06:44:50.152632Z",
     "start_time": "2024-04-02T06:44:50.146141Z"
    }
   },
   "id": "70d2fbe5c0980a54",
   "execution_count": 7
  },
  {
   "cell_type": "code",
   "outputs": [],
   "source": [
    "model_id = \"google/gemma-7b-it\""
   ],
   "metadata": {
    "collapsed": false,
    "ExecuteTime": {
     "end_time": "2024-04-02T06:44:50.167557Z",
     "start_time": "2024-04-02T06:44:50.153759Z"
    }
   },
   "id": "eb8160d8919cdaeb",
   "execution_count": 8
  },
  {
   "cell_type": "code",
   "outputs": [],
   "source": [
    "tokenizer = AutoTokenizer.from_pretrained(model_id)\n",
    "tokenizer.pad_token = tokenizer.eos_token\n",
    "tokenizer.padding_side = \"right\""
   ],
   "metadata": {
    "collapsed": false,
    "ExecuteTime": {
     "end_time": "2024-04-02T06:44:52.213421Z",
     "start_time": "2024-04-02T06:44:50.168593Z"
    }
   },
   "id": "4ebbf883fce9aa8",
   "execution_count": 9
  },
  {
   "cell_type": "code",
   "outputs": [
    {
     "name": "stderr",
     "output_type": "stream",
     "text": [
      "Gemma's activation function should be approximate GeLU and not exact GeLU.\n",
      "Changing the activation function to `gelu_pytorch_tanh`.if you want to use the legacy `gelu`, edit the `model.config` to set `hidden_activation=gelu`   instead of `hidden_act`. See https://github.com/huggingface/transformers/pull/29402 for more details.\n"
     ]
    },
    {
     "data": {
      "text/plain": "Loading checkpoint shards:   0%|          | 0/4 [00:00<?, ?it/s]",
      "application/vnd.jupyter.widget-view+json": {
       "version_major": 2,
       "version_minor": 0,
       "model_id": "c62ad385b6f645cf8335eff0aa2acf06"
      }
     },
     "metadata": {},
     "output_type": "display_data"
    }
   ],
   "source": [
    "model = AutoModelForCausalLM.from_pretrained(\n",
    "    model_id,\n",
    "    device_map=device,\n",
    "    attn_implementation=\"flash_attention_2\",\n",
    "    torch_dtype=dtype,\n",
    "    quantization_config=quantization_config\n",
    ")"
   ],
   "metadata": {
    "collapsed": false,
    "ExecuteTime": {
     "end_time": "2024-04-02T06:46:23.905809Z",
     "start_time": "2024-04-02T06:44:52.215467Z"
    }
   },
   "id": "978055543828a014",
   "execution_count": 10
  },
  {
   "cell_type": "markdown",
   "source": [
    "## Dataset"
   ],
   "metadata": {
    "collapsed": false
   },
   "id": "a4042d4b7cd2d0fd"
  },
  {
   "cell_type": "code",
   "outputs": [],
   "source": [
    "dataset = load_dataset(\"MarkrAI/KoCommercial-Dataset\")"
   ],
   "metadata": {
    "collapsed": false,
    "ExecuteTime": {
     "end_time": "2024-04-02T06:46:29.564638Z",
     "start_time": "2024-04-02T06:46:23.908658Z"
    }
   },
   "id": "4373ef1c6a85e5e2",
   "execution_count": 11
  },
  {
   "cell_type": "code",
   "outputs": [
    {
     "data": {
      "text/plain": "DatasetDict({\n    train: Dataset({\n        features: ['input', 'instruction', 'output'],\n        num_rows: 175454\n    })\n})"
     },
     "execution_count": 12,
     "metadata": {},
     "output_type": "execute_result"
    }
   ],
   "source": [
    "dataset"
   ],
   "metadata": {
    "collapsed": false,
    "ExecuteTime": {
     "end_time": "2024-04-02T06:46:29.569465Z",
     "start_time": "2024-04-02T06:46:29.565958Z"
    }
   },
   "id": "aabd9487c235d581",
   "execution_count": 12
  },
  {
   "cell_type": "code",
   "outputs": [
    {
     "data": {
      "text/plain": "{'input': '',\n 'instruction': '보드 게임 스피너는 $A$, $B$, $C$로 표시된 세 부분으로 나뉩니다. 스피너가 $A$에 떨어질 확률은 $\\\\frac{1}{3}$이고, 스피너가 $B$에 떨어질 확률은 $\\\\frac{5}{12}$입니다.  스피너가 $C$에 착륙할 확률은 얼마입니까? 답을 공통 분수로 표현하세요.',\n 'output': '모든 가능한 결과의 확률의 합이 1$이므로, 스피너가 $C$에 착륙할 확률을 구하려면 스피너가 $A$와 $B$에 착륙할 확률을 1$에서 빼야 합니다. 이를 방정식으로 쓸 수 있습니다: $P(C) = 1 - P(A) - P(B)$. P(A) = \\\\frac{1}{3}$, $P(B) = \\\\frac{5}{12}$라는 것을 알고 있으므로 이 값을 방정식에 대입하여 단순화할 수 있습니다. 결과는 다음과 같습니다: P(C) = 1 - \\\\frac{1}{3} - frac{5}{12} = \\\\frac{12}{12} - frac{4}{12} - frac{5}{12} = \\\\frac{3}{12}$. 분자와 분모를 $3$로 나누면 이 분수를 줄일 수 있습니다: P(C) = \\\\frac{1}{4}$입니다.'}"
     },
     "execution_count": 13,
     "metadata": {},
     "output_type": "execute_result"
    }
   ],
   "source": [
    "dataset[\"train\"][0]"
   ],
   "metadata": {
    "collapsed": false,
    "ExecuteTime": {
     "end_time": "2024-04-02T06:46:29.589237Z",
     "start_time": "2024-04-02T06:46:29.571754Z"
    }
   },
   "id": "760399232efac9ea",
   "execution_count": 13
  },
  {
   "cell_type": "code",
   "outputs": [
    {
     "data": {
      "text/plain": "Map:   0%|          | 0/175454 [00:00<?, ? examples/s]",
      "application/vnd.jupyter.widget-view+json": {
       "version_major": 2,
       "version_minor": 0,
       "model_id": "b5bba5284d8c44f9853c41e52f3970ec"
      }
     },
     "metadata": {},
     "output_type": "display_data"
    }
   ],
   "source": [
    "def preprocess_function(examples):\n",
    "    # Concatenate the 'instruction' and 'output' fields for each example in the batch\n",
    "    concatenated_texts = [instruction + ' ' + output for instruction, output in zip(examples['instruction'], examples['output'])]\n",
    "    # Tokenize the concatenated texts\n",
    "    return tokenizer(concatenated_texts, padding=padding, truncation=truncation, max_length=max_length)\n",
    "\n",
    "dataset = dataset.map(preprocess_function, batched=True)"
   ],
   "metadata": {
    "collapsed": false,
    "ExecuteTime": {
     "end_time": "2024-04-02T06:46:46.399679Z",
     "start_time": "2024-04-02T06:46:29.590642Z"
    }
   },
   "id": "5f8905546b688101",
   "execution_count": 14
  },
  {
   "cell_type": "code",
   "outputs": [
    {
     "name": "stdout",
     "output_type": "stream",
     "text": [
      "{'input': '', 'instruction': '보드 게임 스피너는 $A$, $B$, $C$로 표시된 세 부분으로 나뉩니다. 스피너가 $A$에 떨어질 확률은 $\\\\frac{1}{3}$이고, 스피너가 $B$에 떨어질 확률은 $\\\\frac{5}{12}$입니다.  스피너가 $C$에 착륙할 확률은 얼마입니까? 답을 공통 분수로 표현하세요.', 'output': '모든 가능한 결과의 확률의 합이 1$이므로, 스피너가 $C$에 착륙할 확률을 구하려면 스피너가 $A$와 $B$에 착륙할 확률을 1$에서 빼야 합니다. 이를 방정식으로 쓸 수 있습니다: $P(C) = 1 - P(A) - P(B)$. P(A) = \\\\frac{1}{3}$, $P(B) = \\\\frac{5}{12}$라는 것을 알고 있으므로 이 값을 방정식에 대입하여 단순화할 수 있습니다. 결과는 다음과 같습니다: P(C) = 1 - \\\\frac{1}{3} - frac{5}{12} = \\\\frac{12}{12} - frac{4}{12} - frac{5}{12} = \\\\frac{3}{12}$. 분자와 분모를 $3$로 나누면 이 분수를 줄일 수 있습니다: P(C) = \\\\frac{1}{4}$입니다.', 'input_ids': [2, 237036, 237135, 144280, 32275, 238810, 239632, 236214, 697, 235280, 5750, 697, 235305, 5750, 697, 235288, 235323, 236375, 100280, 236569, 238602, 48740, 43761, 238304, 26291, 38585, 255221, 12957, 235265, 32275, 238810, 239632, 236361, 697, 235280, 235323, 236179, 235248, 243433, 236770, 239574, 69781, 243156, 236648, 1467, 2552, 235282, 235274, 1214, 235304, 1208, 224907, 235269, 32275, 238810, 239632, 236361, 697, 235305, 235323, 236179, 235248, 243433, 236770, 239574, 69781, 243156, 236648, 1467, 2552, 235282, 235308, 1214, 235274, 235284, 1208, 47555, 235265, 139, 236354, 238810, 239632, 236361, 697, 235288, 235323, 236179, 235248, 241293, 245670, 238080, 69781, 243156, 236648, 178008, 237354, 237707, 162200, 235336, 235248, 241305, 236392, 41388, 238693, 70754, 236669, 236375, 100280, 238513, 204551, 235265, 87997, 153728, 236511, 161050, 236137, 69781, 243156, 236137, 172829, 235832, 235248, 235274, 235323, 235832, 212026, 235269, 32275, 238810, 239632, 236361, 697, 235288, 235323, 236179, 235248, 241293, 245670, 238080, 69781, 243156, 236392, 49061, 227860, 237722, 32275, 238810, 239632, 236361, 697, 235280, 235323, 237807, 697, 235305, 235323, 236179, 235248, 241293, 245670, 238080, 69781, 243156, 236392, 235248, 235274, 235323, 22803, 235248, 245122, 238305, 179694, 235265, 11464, 236791, 51806, 236864, 238186, 26291, 235248, 245471, 22618, 55496, 235292, 697, 235295, 235278, 235288, 235275, 589, 235248, 235274, 728, 596, 235278, 235280, 235275, 728, 596, 235278, 235305, 14784, 596, 235278, 235280, 235275, 589, 730, 2552, 235282, 235274, 1214, 235304, 8160, 697, 235295, 235278, 235305, 235275, 589, 730, 2552, 235282, 235308, 1214, 235274, 235284, 1208, 139978, 109241, 78183, 236464, 21167, 237214, 212026, 11464, 147342, 236392, 51806, 236864, 238186, 236179, 26801, 237707, 72494, 80289, 239937, 236817, 238080, 22618, 55496, 235265, 161050, 236214, 115049, 237233, 81673, 21743, 235292, 596, 235278, 235288, 235275, 589, 235248, 235274, 728, 730, 2552, 235282, 235274, 1214, 235304, 235270, 728, 136672, 235282, 235308, 1214, 235274, 235284, 235270, 589, 730, 2552, 235282, 235274, 235284, 1214, 235274, 235284, 235270, 728, 136672, 235282, 235310, 1214, 235274, 235284, 235270, 728, 136672, 235282, 235308, 1214, 235274, 235284, 235270, 589, 730, 2552, 235282, 235304, 1214, 235274, 235284, 7101, 70754, 236645, 237807, 70754, 237551, 236791, 697, 235304, 235323, 236375, 38585, 240265, 237722, 11464, 70754, 236669, 236791, 184434, 236666, 22618, 55496, 235292, 596, 235278, 235288, 235275, 589, 730, 2552, 235282, 235274, 1214, 235310, 1208, 47555, 235265], 'attention_mask': [1, 1, 1, 1, 1, 1, 1, 1, 1, 1, 1, 1, 1, 1, 1, 1, 1, 1, 1, 1, 1, 1, 1, 1, 1, 1, 1, 1, 1, 1, 1, 1, 1, 1, 1, 1, 1, 1, 1, 1, 1, 1, 1, 1, 1, 1, 1, 1, 1, 1, 1, 1, 1, 1, 1, 1, 1, 1, 1, 1, 1, 1, 1, 1, 1, 1, 1, 1, 1, 1, 1, 1, 1, 1, 1, 1, 1, 1, 1, 1, 1, 1, 1, 1, 1, 1, 1, 1, 1, 1, 1, 1, 1, 1, 1, 1, 1, 1, 1, 1, 1, 1, 1, 1, 1, 1, 1, 1, 1, 1, 1, 1, 1, 1, 1, 1, 1, 1, 1, 1, 1, 1, 1, 1, 1, 1, 1, 1, 1, 1, 1, 1, 1, 1, 1, 1, 1, 1, 1, 1, 1, 1, 1, 1, 1, 1, 1, 1, 1, 1, 1, 1, 1, 1, 1, 1, 1, 1, 1, 1, 1, 1, 1, 1, 1, 1, 1, 1, 1, 1, 1, 1, 1, 1, 1, 1, 1, 1, 1, 1, 1, 1, 1, 1, 1, 1, 1, 1, 1, 1, 1, 1, 1, 1, 1, 1, 1, 1, 1, 1, 1, 1, 1, 1, 1, 1, 1, 1, 1, 1, 1, 1, 1, 1, 1, 1, 1, 1, 1, 1, 1, 1, 1, 1, 1, 1, 1, 1, 1, 1, 1, 1, 1, 1, 1, 1, 1, 1, 1, 1, 1, 1, 1, 1, 1, 1, 1, 1, 1, 1, 1, 1, 1, 1, 1, 1, 1, 1, 1, 1, 1, 1, 1, 1, 1, 1, 1, 1, 1, 1, 1, 1, 1, 1, 1, 1, 1, 1, 1, 1, 1, 1, 1, 1, 1, 1, 1, 1, 1, 1, 1, 1, 1, 1, 1, 1, 1, 1, 1, 1, 1, 1, 1, 1, 1, 1, 1, 1, 1, 1, 1, 1, 1, 1, 1, 1, 1, 1, 1, 1, 1, 1, 1, 1, 1, 1, 1, 1, 1, 1, 1, 1, 1, 1, 1, 1, 1, 1, 1, 1, 1, 1, 1, 1, 1, 1, 1, 1, 1, 1, 1, 1, 1]}\n"
     ]
    }
   ],
   "source": [
    "print(dataset[\"train\"][0])"
   ],
   "metadata": {
    "collapsed": false,
    "ExecuteTime": {
     "end_time": "2024-04-02T06:46:46.407691Z",
     "start_time": "2024-04-02T06:46:46.402427Z"
    }
   },
   "id": "a71461b0df690398",
   "execution_count": 15
  },
  {
   "cell_type": "markdown",
   "source": [
    "## Inference before Fine-Tuning"
   ],
   "metadata": {
    "collapsed": false
   },
   "id": "7e1cc5548c03cc80"
  },
  {
   "cell_type": "code",
   "outputs": [],
   "source": [
    "# Chat Template\n",
    "def generate_response(prompt):\n",
    "    messages = [{\"role\": \"user\", \"content\": prompt }]\n",
    "    chat = tokenizer.apply_chat_template(messages, tokenize=False, add_generation_prompt=True)\n",
    "    input_ids = tokenizer.encode(chat, add_special_tokens=False, return_tensors=\"pt\")\n",
    "    outputs = model.generate(input_ids=input_ids.to(model.device), max_new_tokens=max_new_tokens)\n",
    "    response = tokenizer.decode(outputs[0], skip_special_tokens=True)\n",
    "    return response"
   ],
   "metadata": {
    "collapsed": false,
    "ExecuteTime": {
     "end_time": "2024-04-02T06:46:46.446478Z",
     "start_time": "2024-04-02T06:46:46.409643Z"
    }
   },
   "id": "926796ff0f85510b",
   "execution_count": 16
  },
  {
   "cell_type": "code",
   "outputs": [],
   "source": [
    "#prompt = \"Write me a poem about Machine Learning.\"\n",
    "prompt = \"머신러닝에 대한 시를 써주세요.\""
   ],
   "metadata": {
    "collapsed": false,
    "ExecuteTime": {
     "end_time": "2024-04-02T06:46:46.480751Z",
     "start_time": "2024-04-02T06:46:46.447708Z"
    }
   },
   "id": "99e67d0533bf0f91",
   "execution_count": 17
  },
  {
   "cell_type": "code",
   "outputs": [
    {
     "name": "stdout",
     "output_type": "stream",
     "text": [
      "user\n",
      "머신러닝에 대한 시를 써주세요.\n",
      "model\n",
      "**머신러닝의 시**\n",
      "\n",
      "데이터가 쌓여진 바늘,\n",
      "모형이 학습해 숨어진 규칙.\n",
      "알고리즘이 작동하여,\n",
      "정보를 추출하고 패턴을 발견.\n",
      "\n",
      "인공지식이라는 마법,\n",
      "데이터를 분석하고 문제 해결.\n",
      "가벼운 망설이를 혐의,\n",
      "새로운 가능성을 열어 갑니다.\n",
      "\n",
      "사회를 바꾸는 기술,\n",
      "정보의 전달에 영향을 미친다.\n",
      "진료, 예측, 의료,\n",
      "머신러닝은 모든 분야에 영향을 미친다.\n",
      "\n",
      "따라서 머신러닝에 대한 희생감,\n",
      "지식의 발달에 대한 기대.\n",
      "미래를 위한 강력한 도움,\n",
      "세상을 더 나은 곳으로 바꾸는 힘.\n"
     ]
    }
   ],
   "source": [
    "response = generate_response(prompt)\n",
    "print(response)"
   ],
   "metadata": {
    "collapsed": false,
    "ExecuteTime": {
     "end_time": "2024-04-02T06:46:54.641288Z",
     "start_time": "2024-04-02T06:46:46.481917Z"
    }
   },
   "id": "acf71f317ede56b2",
   "execution_count": 18
  },
  {
   "cell_type": "markdown",
   "source": [
    "## Prompt Engineering"
   ],
   "metadata": {
    "collapsed": false
   },
   "id": "c994978d9d4dac94"
  },
  {
   "cell_type": "code",
   "outputs": [],
   "source": [
    "#text = \"Write me a poem about Machine Learning\"\n",
    "text = \"머신러닝에 대한 시를 써주세요.\""
   ],
   "metadata": {
    "collapsed": false,
    "ExecuteTime": {
     "end_time": "2024-04-02T06:46:54.645230Z",
     "start_time": "2024-04-02T06:46:54.642918Z"
    }
   },
   "id": "1691f45038bc824b",
   "execution_count": 19
  },
  {
   "cell_type": "code",
   "outputs": [],
   "source": [
    "prompt = f\"\"\"\n",
    "You are Waktaverse-Gemma, a Korean language model, capable of performing various natural language processing tasks such as text generation, question answering, summarization, and more. \n",
    "\n",
    "Please respond to the following text delimited by triple backticks in Korean.\n",
    "'''{text}'''\n",
    "Use Korean only.\n",
    "\"\"\""
   ],
   "metadata": {
    "collapsed": false,
    "ExecuteTime": {
     "end_time": "2024-04-02T06:46:54.654748Z",
     "start_time": "2024-04-02T06:46:54.646123Z"
    }
   },
   "id": "cd578a38ddcd2fe0",
   "execution_count": 20
  },
  {
   "cell_type": "code",
   "outputs": [
    {
     "name": "stdout",
     "output_type": "stream",
     "text": [
      "user\n",
      "You are Waktaverse-Gemma, a Korean language model, capable of performing various natural language processing tasks such as text generation, question answering, summarization, and more. \n",
      "\n",
      "Please respond to the following text delimited by triple backticks in Korean.\n",
      "Use Korean only.\n",
      "'''머신러닝에 대한 시를 써주세요.'''\n",
      "model\n",
      "** Waktaverse-Gemma의 응답:**\n",
      "\n",
      "머신 러닝에 대한 시를 써드립니다.\n",
      "소박한 알고리즘,\n",
      "데이터를 학습하여 사실을 예측합니다.\n",
      "세상을 변화시키는 강력한력,\n",
      "인간의 지식을 혐의로 넘어갑니다.\n"
     ]
    }
   ],
   "source": [
    "response = generate_response(prompt)\n",
    "print(response)"
   ],
   "metadata": {
    "collapsed": false,
    "ExecuteTime": {
     "end_time": "2024-04-02T06:46:57.205476Z",
     "start_time": "2024-04-02T06:46:54.657305Z"
    }
   },
   "id": "4ad69cbe1c67a913",
   "execution_count": 21
  },
  {
   "cell_type": "markdown",
   "source": [
    "## Supervised Fine-Tuning(LoRA)"
   ],
   "metadata": {
    "collapsed": false
   },
   "id": "b43eba6780d2e557"
  },
  {
   "cell_type": "code",
   "outputs": [],
   "source": [
    "def formatting_func(example):\n",
    "    text = (f\"instruction: {example['instruction'][0]}\\n\"\n",
    "            f\"output: {example['output'][0]}\")\n",
    "    return [text]"
   ],
   "metadata": {
    "collapsed": false,
    "ExecuteTime": {
     "end_time": "2024-04-02T06:46:57.211891Z",
     "start_time": "2024-04-02T06:46:57.209389Z"
    }
   },
   "id": "3c819cbc6c554745",
   "execution_count": 22
  },
  {
   "cell_type": "code",
   "outputs": [
    {
     "data": {
      "text/plain": "Map:   0%|          | 0/175454 [00:00<?, ? examples/s]",
      "application/vnd.jupyter.widget-view+json": {
       "version_major": 2,
       "version_minor": 0,
       "model_id": "a1df6b0666bd4cb1914764e972cd38c8"
      }
     },
     "metadata": {},
     "output_type": "display_data"
    },
    {
     "name": "stderr",
     "output_type": "stream",
     "text": [
      "/home/pathfinder/anaconda3/envs/torch-env/lib/python3.11/site-packages/accelerate/accelerator.py:432: FutureWarning: Passing the following arguments to `Accelerator` is deprecated and will be removed in version 1.0 of Accelerate: dict_keys(['dispatch_batches', 'split_batches', 'even_batches', 'use_seedable_sampler']). Please pass an `accelerate.DataLoaderConfiguration` instead: \n",
      "dataloader_config = DataLoaderConfiguration(dispatch_batches=None, split_batches=False, even_batches=True, use_seedable_sampler=True)\n",
      "  warnings.warn(\n"
     ]
    }
   ],
   "source": [
    "trainer = SFTTrainer(\n",
    "    model=model,\n",
    "    tokenizer=tokenizer,\n",
    "    args=training_args,\n",
    "    peft_config=lora_config,\n",
    "    max_seq_length=max_seq_length,\n",
    "    train_dataset=dataset[\"train\"],\n",
    "    formatting_func=formatting_func\n",
    ")"
   ],
   "metadata": {
    "collapsed": false,
    "ExecuteTime": {
     "end_time": "2024-04-02T06:47:20.072498Z",
     "start_time": "2024-04-02T06:46:57.212841Z"
    }
   },
   "id": "c60c5aa9a7d970b3",
   "execution_count": 23
  },
  {
   "cell_type": "code",
   "outputs": [
    {
     "name": "stderr",
     "output_type": "stream",
     "text": [
      "The input hidden states seems to be silently casted in float32, this might be related to the fact you have upcasted embedding or layer norm layers in float32. We will cast back the input in torch.bfloat16.\n"
     ]
    },
    {
     "data": {
      "text/plain": "<IPython.core.display.HTML object>",
      "text/html": "\n    <div>\n      \n      <progress value='176' max='176' style='width:300px; height:20px; vertical-align: middle;'></progress>\n      [176/176 10:23, Epoch 1/1]\n    </div>\n    <table border=\"1\" class=\"dataframe\">\n  <thead>\n <tr style=\"text-align: left;\">\n      <th>Step</th>\n      <th>Training Loss</th>\n    </tr>\n  </thead>\n  <tbody>\n    <tr>\n      <td>10</td>\n      <td>6.291000</td>\n    </tr>\n    <tr>\n      <td>20</td>\n      <td>5.737300</td>\n    </tr>\n    <tr>\n      <td>30</td>\n      <td>5.079900</td>\n    </tr>\n    <tr>\n      <td>40</td>\n      <td>4.930600</td>\n    </tr>\n    <tr>\n      <td>50</td>\n      <td>3.810900</td>\n    </tr>\n    <tr>\n      <td>60</td>\n      <td>4.162600</td>\n    </tr>\n    <tr>\n      <td>70</td>\n      <td>3.530000</td>\n    </tr>\n    <tr>\n      <td>80</td>\n      <td>3.280300</td>\n    </tr>\n    <tr>\n      <td>90</td>\n      <td>3.457000</td>\n    </tr>\n    <tr>\n      <td>100</td>\n      <td>2.939800</td>\n    </tr>\n    <tr>\n      <td>110</td>\n      <td>2.921400</td>\n    </tr>\n    <tr>\n      <td>120</td>\n      <td>2.929300</td>\n    </tr>\n    <tr>\n      <td>130</td>\n      <td>2.359900</td>\n    </tr>\n    <tr>\n      <td>140</td>\n      <td>2.717500</td>\n    </tr>\n    <tr>\n      <td>150</td>\n      <td>2.880400</td>\n    </tr>\n    <tr>\n      <td>160</td>\n      <td>2.544400</td>\n    </tr>\n    <tr>\n      <td>170</td>\n      <td>2.640000</td>\n    </tr>\n  </tbody>\n</table><p>"
     },
     "metadata": {},
     "output_type": "display_data"
    },
    {
     "data": {
      "text/plain": "TrainOutput(global_step=176, training_loss=3.6180596947669983, metrics={'train_runtime': 667.4649, 'train_samples_per_second': 0.264, 'train_steps_per_second': 0.264, 'total_flos': 2599616221685760.0, 'train_loss': 3.6180596947669983, 'epoch': 1.0})"
     },
     "execution_count": 24,
     "metadata": {},
     "output_type": "execute_result"
    }
   ],
   "source": [
    "trainer.train()"
   ],
   "metadata": {
    "collapsed": false,
    "ExecuteTime": {
     "end_time": "2024-04-02T06:58:29.164317Z",
     "start_time": "2024-04-02T06:47:20.080837Z"
    }
   },
   "id": "5d9ba03835392e2a",
   "execution_count": 24
  },
  {
   "cell_type": "markdown",
   "source": [
    "## Save Model"
   ],
   "metadata": {
    "collapsed": false
   },
   "id": "2fcfd2aa4e7a51d2"
  },
  {
   "cell_type": "code",
   "outputs": [],
   "source": [
    "trainer.save_model(model_name)"
   ],
   "metadata": {
    "collapsed": false,
    "ExecuteTime": {
     "end_time": "2024-04-02T06:58:30.409509Z",
     "start_time": "2024-04-02T06:58:29.173029Z"
    }
   },
   "id": "f4b2fdcf617359a4",
   "execution_count": 25
  },
  {
   "cell_type": "markdown",
   "source": [
    "## Inference after Fine-Tuning"
   ],
   "metadata": {
    "collapsed": false
   },
   "id": "4ec24bf55b44834d"
  },
  {
   "cell_type": "code",
   "outputs": [],
   "source": [
    "#text = \"Write me a poem about Machine Learning\"\n",
    "text = \"머신러닝에 대한 시를 써주세요.\""
   ],
   "metadata": {
    "collapsed": false,
    "ExecuteTime": {
     "end_time": "2024-04-02T06:58:30.414577Z",
     "start_time": "2024-04-02T06:58:30.410848Z"
    }
   },
   "id": "31f9068a9634751a",
   "execution_count": 26
  },
  {
   "cell_type": "code",
   "outputs": [],
   "source": [
    "prompt = f\"\"\"\n",
    "You are Waktaverse-Gemma, a Korean language model, capable of performing various natural language processing tasks such as text generation, question answering, summarization, and more. \n",
    "\n",
    "Please respond to the following text delimited by triple backticks in Korean.\n",
    "'''{text}'''\n",
    "Use Korean only.\n",
    "\"\"\""
   ],
   "metadata": {
    "collapsed": false,
    "ExecuteTime": {
     "end_time": "2024-04-02T06:58:30.430806Z",
     "start_time": "2024-04-02T06:58:30.415838Z"
    }
   },
   "id": "bcba8c32d5f5469f",
   "execution_count": 27
  },
  {
   "cell_type": "code",
   "outputs": [
    {
     "name": "stdout",
     "output_type": "stream",
     "text": [
      "user\n",
      "You are Waktaverse-Gemma, a Korean language model, capable of performing various natural language processing tasks such as text generation, question answering, summarization, and more. \n",
      "\n",
      "Please respond to the following text delimited by triple backticks in Korean.\n",
      "Use Korean only.\n",
      "'''머신러닝에 대한 시를 써주세요.'''\n",
      "model\n",
      "**소리 엉친 머신러닝,\n",
      "데이터를 삼켜 엉친 망설이,\n",
      "사랑스러운 컴퓨터,\n",
      "소리 엉친 머신러닝,\n",
      "세상을 변화시키는 힘,\n",
      "세상을 변화시키는 힘,\n",
      "세상을 변화시키는 힘,\n",
      "세상을 변화시키는 힘,\n",
      "세상을 변화시키는 힘,\n",
      "세상을 변화시키는 힘,\n",
      "세상을 변화시키는 힘,\n",
      "세상을 변화시키는 힘,\n",
      "세상을 변화시키는 힘,\n",
      "세상을 변화시키는 힘,\n",
      "세상을 변화시키는 힘,\n",
      "세상을 변화시키는 힘,\n",
      "세상을 변화시키는 힘,\n",
      "세상을 변화시키는 힘,\n",
      "세상을 변화시키는 힘,\n",
      "세상을 변화시키는 힘,\n",
      "세상을 변화시키는 힘,\n",
      "세상을 변화시키는 힘,\n",
      "세상을 변화시키는 힘,\n",
      "세상을 변화시키는 힘,\n",
      "세상을 변화시키는 힘,\n",
      "세상을 변화시키는 힘,\n",
      "세상을 변화시키는 힘,\n",
      "세상을 변화시키는 힘,\n",
      "세상을 변화시키는 힘,\n",
      "세상을 변화시키는 힘,\n",
      "세상을 변화시키는 힘,\n",
      "세상을 변화시키는 힘,\n",
      "세상을 변화시키는 힘,\n",
      "세상을 변화시키는 힘,\n",
      "세상을 변화시키는 힘,\n",
      "세상을 변화시키는 힘,\n",
      "세상을 변화시키는 힘,\n",
      "세상을 변화시키는 힘,\n",
      "세상을 변화시키는 힘,\n",
      "세상을 변화시키는 힘,\n",
      "세상을 변화시키는 힘,\n",
      "세상을 변화시키는\n"
     ]
    }
   ],
   "source": [
    "response = generate_response(prompt)\n",
    "print(response)"
   ],
   "metadata": {
    "collapsed": false,
    "ExecuteTime": {
     "end_time": "2024-04-02T07:00:04.952623Z",
     "start_time": "2024-04-02T06:58:30.446724Z"
    }
   },
   "id": "1219dfd08fc2facd",
   "execution_count": 28
  }
 ],
 "metadata": {
  "kernelspec": {
   "display_name": "Python 3",
   "language": "python",
   "name": "python3"
  },
  "language_info": {
   "codemirror_mode": {
    "name": "ipython",
    "version": 2
   },
   "file_extension": ".py",
   "mimetype": "text/x-python",
   "name": "python",
   "nbconvert_exporter": "python",
   "pygments_lexer": "ipython2",
   "version": "2.7.6"
  }
 },
 "nbformat": 4,
 "nbformat_minor": 5
}
