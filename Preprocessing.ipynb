{
 "cells": [
  {
   "metadata": {},
   "cell_type": "markdown",
   "source": "## Login to Hugging Face",
   "id": "de300a33a363067a"
  },
  {
   "cell_type": "code",
   "id": "initial_id",
   "metadata": {
    "collapsed": true,
    "ExecuteTime": {
     "end_time": "2024-04-16T01:24:53.290653Z",
     "start_time": "2024-04-16T01:24:52.782314Z"
    }
   },
   "source": [
    "from dotenv import load_dotenv\n",
    "import os\n",
    "from huggingface_hub import login\n",
    "\n",
    "load_dotenv()\n",
    "token = os.getenv(\"HUGGINGFACE_TOKEN\")\n",
    "login(\n",
    "    token=token, # ADD YOUR TOKEN HERE\n",
    "    add_to_git_credential=True\n",
    ")"
   ],
   "outputs": [
    {
     "name": "stdout",
     "output_type": "stream",
     "text": [
      "Token is valid (permission: write).\n",
      "Your token has been saved in your configured git credential helpers (store).\n",
      "Your token has been saved to /home/pathfinder/.cache/huggingface/token\n",
      "Login successful\n"
     ]
    }
   ],
   "execution_count": 2
  },
  {
   "metadata": {},
   "cell_type": "markdown",
   "source": "## Imports",
   "id": "f1a6ad87407f018c"
  },
  {
   "metadata": {
    "ExecuteTime": {
     "end_time": "2024-04-16T01:24:54.783388Z",
     "start_time": "2024-04-16T01:24:53.292101Z"
    }
   },
   "cell_type": "code",
   "source": [
    "import matplotlib.pyplot as plt\n",
    "\n",
    "# huggingface\n",
    "from transformers import AutoTokenizer\n",
    "\n",
    "# datasets\n",
    "import pandas as pd\n",
    "from datasets import load_dataset"
   ],
   "id": "84bc97b90ac6cbe0",
   "outputs": [],
   "execution_count": 3
  },
  {
   "metadata": {},
   "cell_type": "markdown",
   "source": "## Tokenizer",
   "id": "b3c2fbe6b012870c"
  },
  {
   "metadata": {
    "ExecuteTime": {
     "end_time": "2024-04-16T01:24:55.036460Z",
     "start_time": "2024-04-16T01:24:54.784838Z"
    }
   },
   "cell_type": "code",
   "source": [
    "model_id = \"upstage/SOLAR-10.7B-Instruct-v1.0\"\n",
    "tokenizer = AutoTokenizer.from_pretrained(model_id)\n",
    "tokenizer.pad_token = tokenizer.eos_token\n",
    "tokenizer.padding_side = \"right\""
   ],
   "id": "5577562d2c95f2b0",
   "outputs": [],
   "execution_count": 4
  },
  {
   "metadata": {},
   "cell_type": "markdown",
   "source": "## Dataset",
   "id": "3674ae71d409e68e"
  },
  {
   "metadata": {
    "ExecuteTime": {
     "end_time": "2024-04-16T01:24:59.476344Z",
     "start_time": "2024-04-16T01:24:55.037930Z"
    }
   },
   "cell_type": "code",
   "source": "dataset = load_dataset(\"MarkrAI/KoCommercial-Dataset\")",
   "id": "fe9ead18a8f8d801",
   "outputs": [],
   "execution_count": 5
  },
  {
   "metadata": {
    "ExecuteTime": {
     "end_time": "2024-04-16T01:24:59.481689Z",
     "start_time": "2024-04-16T01:24:59.477629Z"
    }
   },
   "cell_type": "code",
   "source": [
    "# dataset information\n",
    "dataset"
   ],
   "id": "74a81f8bce8162a0",
   "outputs": [
    {
     "data": {
      "text/plain": [
       "DatasetDict({\n",
       "    train: Dataset({\n",
       "        features: ['input', 'instruction', 'output'],\n",
       "        num_rows: 175454\n",
       "    })\n",
       "})"
      ]
     },
     "execution_count": 6,
     "metadata": {},
     "output_type": "execute_result"
    }
   ],
   "execution_count": 6
  },
  {
   "metadata": {
    "ExecuteTime": {
     "end_time": "2024-04-16T01:24:59.489541Z",
     "start_time": "2024-04-16T01:24:59.482784Z"
    }
   },
   "cell_type": "code",
   "source": [
    "# dataset example\n",
    "dataset[\"train\"][0]"
   ],
   "id": "72033b2da92b9240",
   "outputs": [
    {
     "data": {
      "text/plain": [
       "{'input': '',\n",
       " 'instruction': '보드 게임 스피너는 $A$, $B$, $C$로 표시된 세 부분으로 나뉩니다. 스피너가 $A$에 떨어질 확률은 $\\\\frac{1}{3}$이고, 스피너가 $B$에 떨어질 확률은 $\\\\frac{5}{12}$입니다.  스피너가 $C$에 착륙할 확률은 얼마입니까? 답을 공통 분수로 표현하세요.',\n",
       " 'output': '모든 가능한 결과의 확률의 합이 1$이므로, 스피너가 $C$에 착륙할 확률을 구하려면 스피너가 $A$와 $B$에 착륙할 확률을 1$에서 빼야 합니다. 이를 방정식으로 쓸 수 있습니다: $P(C) = 1 - P(A) - P(B)$. P(A) = \\\\frac{1}{3}$, $P(B) = \\\\frac{5}{12}$라는 것을 알고 있으므로 이 값을 방정식에 대입하여 단순화할 수 있습니다. 결과는 다음과 같습니다: P(C) = 1 - \\\\frac{1}{3} - frac{5}{12} = \\\\frac{12}{12} - frac{4}{12} - frac{5}{12} = \\\\frac{3}{12}$. 분자와 분모를 $3$로 나누면 이 분수를 줄일 수 있습니다: P(C) = \\\\frac{1}{4}$입니다.'}"
      ]
     },
     "execution_count": 7,
     "metadata": {},
     "output_type": "execute_result"
    }
   ],
   "execution_count": 7
  },
  {
   "metadata": {
    "ExecuteTime": {
     "end_time": "2024-04-16T01:24:59.515438Z",
     "start_time": "2024-04-16T01:24:59.491078Z"
    }
   },
   "cell_type": "code",
   "source": [
    "def preprocess_instruction(examples):\n",
    "    # Tokenize the instruction\n",
    "    return tokenizer(examples[\"instruction\"], padding=\"do_not_pad\", truncation=\"do_not_truncate\")\n",
    "\n",
    "dataset = dataset.map(preprocess_instruction, batched=True)"
   ],
   "id": "10c9e07e337b7714",
   "outputs": [],
   "execution_count": 8
  },
  {
   "metadata": {
    "ExecuteTime": {
     "end_time": "2024-04-16T01:25:02.234142Z",
     "start_time": "2024-04-16T01:24:59.516409Z"
    }
   },
   "cell_type": "code",
   "source": [
    "# Number of 'input_ids' for instruction in the dataset\n",
    "pd.Series([len(x) for x in dataset[\"train\"][\"input_ids\"]]).describe()"
   ],
   "id": "848248d26fcd8d69",
   "outputs": [
    {
     "data": {
      "text/plain": [
       "count    175454.000000\n",
       "mean         56.265944\n",
       "std         116.458180\n",
       "min           6.000000\n",
       "25%          24.000000\n",
       "50%          30.000000\n",
       "75%          42.000000\n",
       "max        6120.000000\n",
       "dtype: float64"
      ]
     },
     "execution_count": 9,
     "metadata": {},
     "output_type": "execute_result"
    }
   ],
   "execution_count": 9
  },
  {
   "metadata": {
    "ExecuteTime": {
     "end_time": "2024-04-16T01:25:05.283132Z",
     "start_time": "2024-04-16T01:25:02.235604Z"
    }
   },
   "cell_type": "code",
   "source": [
    "# visualizing the distribution of the number of 'input_ids' for instruction in the dataset\n",
    "plt.hist([len(x) for x in dataset[\"train\"][\"input_ids\"]], bins=20)\n",
    "plt.show()"
   ],
   "id": "1f237dd0f81716be",
   "outputs": [
    {
     "data": {
      "text/plain": [
       "<Figure size 640x480 with 1 Axes>"
      ],
      "image/png": "[encoded data removed]"
     },
     "metadata": {},
     "output_type": "display_data"
    }
   ],
   "execution_count": 10
  },
  {
   "metadata": {
    "ExecuteTime": {
     "end_time": "2024-04-16T01:25:05.307010Z",
     "start_time": "2024-04-16T01:25:05.285577Z"
    }
   },
   "cell_type": "code",
   "source": [
    "def preprocess_output(examples):\n",
    "    # Tokenize the output\n",
    "    return tokenizer(examples[\"output\"], padding=\"max_length\", truncation=True)\n",
    "\n",
    "dataset = dataset.map(preprocess_output, batched=True)"
   ],
   "id": "74f8add2371acbfb",
   "outputs": [],
   "execution_count": 11
  },
  {
   "metadata": {
    "ExecuteTime": {
     "end_time": "2024-04-16T01:25:20.954603Z",
     "start_time": "2024-04-16T01:25:05.308293Z"
    }
   },
   "cell_type": "code",
   "source": [
    "# Number of 'input_ids' for output in the dataset\n",
    "pd.Series([len(x) for x in dataset[\"train\"][\"input_ids\"]]).describe()"
   ],
   "id": "ec1802a5d3094c71",
   "outputs": [
    {
     "data": {
      "text/plain": [
       "count    175454.000000\n",
       "mean        445.152103\n",
       "std         227.137153\n",
       "min           1.000000\n",
       "25%         306.000000\n",
       "50%         405.000000\n",
       "75%         534.000000\n",
       "max        5865.000000\n",
       "dtype: float64"
      ]
     },
     "execution_count": 12,
     "metadata": {},
     "output_type": "execute_result"
    }
   ],
   "execution_count": 12
  },
  {
   "metadata": {
    "ExecuteTime": {
     "end_time": "2024-04-16T01:25:38.894245Z",
     "start_time": "2024-04-16T01:25:20.955903Z"
    }
   },
   "cell_type": "code",
   "source": [
    "# visualizing the distribution of the number of 'input_ids' for output in the dataset\n",
    "plt.hist([len(x) for x in dataset[\"train\"][\"input_ids\"]], bins=20)\n",
    "plt.show()"
   ],
   "id": "9ceaa34041cc5bbd",
   "outputs": [
    {
     "data": {
      "text/plain": [
       "<Figure size 640x480 with 1 Axes>"
      ],
      "image/png": "[encoded data removed]"
     },
     "metadata": {},
     "output_type": "display_data"
    }
   ],
   "execution_count": 13
  }
 ],
 "metadata": {
  "kernelspec": {
   "display_name": "Python 3",
   "language": "python",
   "name": "python3"
  },
  "language_info": {
   "codemirror_mode": {
    "name": "ipython",
    "version": 2
   },
   "file_extension": ".py",
   "mimetype": "text/x-python",
   "name": "python",
   "nbconvert_exporter": "python",
   "pygments_lexer": "ipython2",
   "version": "2.7.6"
  }
 },
 "nbformat": 4,
 "nbformat_minor": 5
}
