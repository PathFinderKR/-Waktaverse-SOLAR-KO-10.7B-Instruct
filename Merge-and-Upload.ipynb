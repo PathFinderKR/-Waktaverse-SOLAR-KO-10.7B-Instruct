{
 "cells": [
  {
   "metadata": {},
   "cell_type": "markdown",
   "source": "## Importing Libraries",
   "id": "52b28e5448565d4"
  },
  {
   "cell_type": "code",
   "id": "initial_id",
   "metadata": {
    "collapsed": true,
    "ExecuteTime": {
     "end_time": "2024-05-29T23:22:21.729821Z",
     "start_time": "2024-05-29T23:22:17.829740Z"
    }
   },
   "source": [
    "# pytorch\n",
    "import torch\n",
    "\n",
    "# huggingface\n",
    "from transformers import AutoTokenizer, AutoModelForCausalLM\n",
    "from peft import PeftModel"
   ],
   "outputs": [],
   "execution_count": 1
  },
  {
   "metadata": {},
   "cell_type": "markdown",
   "source": "## Hugging Face",
   "id": "99341f6755ff4c4b"
  },
  {
   "metadata": {
    "ExecuteTime": {
     "end_time": "2024-05-29T23:22:21.733706Z",
     "start_time": "2024-05-29T23:22:21.731180Z"
    }
   },
   "cell_type": "code",
   "source": [
    "model_name = \"Waktaverse-Llama-2-KO-7B-Instruct\"  # ADD YOUR MODEL NAME HERE\n",
    "username = \"PathFinderKR\"  # ADD YOUR USERNAME HERE\n",
    "repo_id = f\"{username}/{model_name}\"  # repository id"
   ],
   "id": "2e7cd1150b6b283d",
   "outputs": [],
   "execution_count": 2
  },
  {
   "metadata": {},
   "cell_type": "markdown",
   "source": "## Device",
   "id": "a878573a8643457f"
  },
  {
   "metadata": {
    "ExecuteTime": {
     "end_time": "2024-05-29T23:22:21.813292Z",
     "start_time": "2024-05-29T23:22:21.734746Z"
    }
   },
   "cell_type": "code",
   "source": [
    "# Device setup\n",
    "device = (\n",
    "    \"cuda:0\" if torch.cuda.is_available() else # Nvidia GPU\n",
    "    \"mps\" if torch.backends.mps.is_available() else # Apple Silicon GPU\n",
    "    \"cpu\"\n",
    ")\n",
    "print(f\"Device = {device}\")"
   ],
   "id": "bd09a320658535ad",
   "outputs": [
    {
     "name": "stdout",
     "output_type": "stream",
     "text": [
      "Device = cuda:0\n"
     ]
    }
   ],
   "execution_count": 3
  },
  {
   "metadata": {},
   "cell_type": "markdown",
   "source": "## Merge",
   "id": "c6a8203abf3e30b3"
  },
  {
   "metadata": {
    "ExecuteTime": {
     "end_time": "2024-05-29T23:22:21.820603Z",
     "start_time": "2024-05-29T23:22:21.814237Z"
    }
   },
   "cell_type": "code",
   "source": [
    "korean_tokenizer_id = \"meta-llama/Llama-2-7b-hf\"\n",
    "model_id = \"meta-llama/Llama-2-7b-hf\""
   ],
   "id": "a96c82c7648f3705",
   "outputs": [],
   "execution_count": 4
  },
  {
   "metadata": {
    "ExecuteTime": {
     "end_time": "2024-05-29T23:23:07.872494Z",
     "start_time": "2024-05-29T23:22:21.822149Z"
    }
   },
   "cell_type": "code",
   "source": [
    "# Reload tokenizer to save it\n",
    "tokenizer = AutoTokenizer.from_pretrained(korean_tokenizer_id)\n",
    "# Reload model in FP16 and merge it with LoRA weights\n",
    "base_model = AutoModelForCausalLM.from_pretrained(\n",
    "    model_id,\n",
    "    device_map=device,\n",
    "    torch_dtype=torch.float16,\n",
    "    low_cpu_mem_usage=True\n",
    ")"
   ],
   "id": "21830c03da1c481",
   "outputs": [
    {
     "data": {
      "text/plain": [
       "Loading checkpoint shards:   0%|          | 0/2 [00:00<?, ?it/s]"
      ],
      "application/vnd.jupyter.widget-view+json": {
       "version_major": 2,
       "version_minor": 0,
       "model_id": "3732218a57314beca3571028e61d93a3"
      }
     },
     "metadata": {},
     "output_type": "display_data"
    }
   ],
   "execution_count": 5
  },
  {
   "metadata": {
    "ExecuteTime": {
     "end_time": "2024-05-29T23:23:16.219747Z",
     "start_time": "2024-05-29T23:23:07.873678Z"
    }
   },
   "cell_type": "code",
   "source": [
    "# Merge and unload\n",
    "model = PeftModel.from_pretrained(base_model, model_name)\n",
    "model = model.merge_and_unload()"
   ],
   "id": "da760abcfbe32fa9",
   "outputs": [],
   "execution_count": 6
  },
  {
   "metadata": {},
   "cell_type": "markdown",
   "source": "## Upload",
   "id": "7d586f11b9cc3176"
  },
  {
   "metadata": {
    "ExecuteTime": {
     "end_time": "2024-05-29T23:44:42.604740Z",
     "start_time": "2024-05-29T23:23:16.220782Z"
    }
   },
   "cell_type": "code",
   "source": [
    "tokenizer.push_to_hub(\n",
    "    repo_id=repo_id,\n",
    "    use_temp_dir=False\n",
    ")\n",
    "model.push_to_hub(\n",
    "    repo_id= repo_id,\n",
    "    use_temp_dir=False\n",
    ")"
   ],
   "id": "37edc637f9999a55",
   "outputs": [
    {
     "data": {
      "text/plain": [
       "model-00002-of-00003.safetensors:   0%|          | 0.00/4.95G [00:00<?, ?B/s]"
      ],
      "application/vnd.jupyter.widget-view+json": {
       "version_major": 2,
       "version_minor": 0,
       "model_id": "5d1be636a94c473f90e7e0f49513944e"
      }
     },
     "metadata": {},
     "output_type": "display_data"
    },
    {
     "data": {
      "text/plain": [
       "Upload 3 LFS files:   0%|          | 0/3 [00:00<?, ?it/s]"
      ],
      "application/vnd.jupyter.widget-view+json": {
       "version_major": 2,
       "version_minor": 0,
       "model_id": "c3fd0d8daf6f4dfa87be31e50ce2b134"
      }
     },
     "metadata": {},
     "output_type": "display_data"
    },
    {
     "data": {
      "text/plain": [
       "model-00001-of-00003.safetensors:   0%|          | 0.00/4.94G [00:00<?, ?B/s]"
      ],
      "application/vnd.jupyter.widget-view+json": {
       "version_major": 2,
       "version_minor": 0,
       "model_id": "75b91e326ea5470cacd6d86ff1ff9e17"
      }
     },
     "metadata": {},
     "output_type": "display_data"
    },
    {
     "data": {
      "text/plain": [
       "model-00003-of-00003.safetensors:   0%|          | 0.00/3.59G [00:00<?, ?B/s]"
      ],
      "application/vnd.jupyter.widget-view+json": {
       "version_major": 2,
       "version_minor": 0,
       "model_id": "19c97e219122427e99a070b2998f6e54"
      }
     },
     "metadata": {},
     "output_type": "display_data"
    },
    {
     "data": {
      "text/plain": [
       "CommitInfo(commit_url='https://huggingface.co/PathFinderKR/Waktaverse-Llama-2-KO-7B-Instruct/commit/38bff644bfb7ab8a4dfcab9d8237f3c92d270acf', commit_message='Upload LlamaForCausalLM', commit_description='', oid='38bff644bfb7ab8a4dfcab9d8237f3c92d270acf', pr_url=None, pr_revision=None, pr_num=None)"
      ]
     },
     "execution_count": 7,
     "metadata": {},
     "output_type": "execute_result"
    }
   ],
   "execution_count": 7
  }
 ],
 "metadata": {
  "kernelspec": {
   "display_name": "Python 3",
   "language": "python",
   "name": "python3"
  },
  "language_info": {
   "codemirror_mode": {
    "name": "ipython",
    "version": 2
   },
   "file_extension": ".py",
   "mimetype": "text/x-python",
   "name": "python",
   "nbconvert_exporter": "python",
   "pygments_lexer": "ipython2",
   "version": "2.7.6"
  }
 },
 "nbformat": 4,
 "nbformat_minor": 5
}
