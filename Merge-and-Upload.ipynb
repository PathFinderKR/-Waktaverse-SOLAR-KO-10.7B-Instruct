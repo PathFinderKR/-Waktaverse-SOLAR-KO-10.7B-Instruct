{
 "cells": [
  {
   "metadata": {},
   "cell_type": "markdown",
   "source": "## Importing Libraries",
   "id": "52b28e5448565d4"
  },
  {
   "cell_type": "code",
   "id": "initial_id",
   "metadata": {
    "collapsed": true,
    "ExecuteTime": {
     "end_time": "2024-05-31T02:30:27.173930Z",
     "start_time": "2024-05-31T02:30:25.183717Z"
    }
   },
   "source": [
    "# pytorch\n",
    "import torch\n",
    "\n",
    "# huggingface\n",
    "from transformers import AutoTokenizer, AutoModelForCausalLM\n",
    "from peft import PeftModel"
   ],
   "execution_count": 1,
   "outputs": []
  },
  {
   "metadata": {},
   "cell_type": "markdown",
   "source": "## Hugging Face",
   "id": "99341f6755ff4c4b"
  },
  {
   "metadata": {
    "ExecuteTime": {
     "end_time": "2024-05-31T02:30:27.177727Z",
     "start_time": "2024-05-31T02:30:27.175255Z"
    }
   },
   "cell_type": "code",
   "source": [
    "model_name = \"Waktaverse-Llama-3-KO-8B-Instruct\"  # ADD YOUR MODEL NAME HERE\n",
    "username = \"PathFinderKR\"  # ADD YOUR USERNAME HERE\n",
    "repo_id = f\"{username}/{model_name}\"  # repository id"
   ],
   "id": "2e7cd1150b6b283d",
   "execution_count": 2,
   "outputs": []
  },
  {
   "metadata": {},
   "cell_type": "markdown",
   "source": "## Device",
   "id": "a878573a8643457f"
  },
  {
   "metadata": {
    "ExecuteTime": {
     "end_time": "2024-05-31T02:30:27.253185Z",
     "start_time": "2024-05-31T02:30:27.178665Z"
    }
   },
   "cell_type": "code",
   "source": [
    "# Device setup\n",
    "device = (\n",
    "    \"cuda:0\" if torch.cuda.is_available() else # Nvidia GPU\n",
    "    \"mps\" if torch.backends.mps.is_available() else # Apple Silicon GPU\n",
    "    \"cpu\"\n",
    ")\n",
    "print(f\"Device = {device}\")"
   ],
   "id": "bd09a320658535ad",
   "execution_count": 3,
   "outputs": []
  },
  {
   "metadata": {},
   "cell_type": "markdown",
   "source": "## Merge",
   "id": "c6a8203abf3e30b3"
  },
  {
   "metadata": {
    "ExecuteTime": {
     "end_time": "2024-05-31T02:30:27.260090Z",
     "start_time": "2024-05-31T02:30:27.254705Z"
    }
   },
   "cell_type": "code",
   "source": [
    "tokenizer_id = \"meta-llama/Meta-Llama-3-8B-Instruct\"\n",
    "model_id = \"meta-llama/Meta-Llama-3-8B-Instruct\""
   ],
   "id": "a96c82c7648f3705",
   "execution_count": 4,
   "outputs": []
  },
  {
   "metadata": {
    "ExecuteTime": {
     "end_time": "2024-05-31T02:32:35.740562Z",
     "start_time": "2024-05-31T02:30:27.261046Z"
    }
   },
   "cell_type": "code",
   "source": [
    "# Reload tokenizer to save it\n",
    "tokenizer = AutoTokenizer.from_pretrained(tokenizer_id)\n",
    "# Reload model in FP16 and merge it with LoRA weights\n",
    "base_model = AutoModelForCausalLM.from_pretrained(\n",
    "    model_id,\n",
    "    device_map=device,\n",
    "    torch_dtype=torch.float16,\n",
    "    low_cpu_mem_usage=True\n",
    ")"
   ],
   "id": "21830c03da1c481",
   "execution_count": 5,
   "outputs": []
  },
  {
   "metadata": {
    "ExecuteTime": {
     "end_time": "2024-05-31T02:32:44.050106Z",
     "start_time": "2024-05-31T02:32:35.741759Z"
    }
   },
   "cell_type": "code",
   "source": [
    "# Merge and unload\n",
    "model = PeftModel.from_pretrained(base_model, model_name)\n",
    "model = model.merge_and_unload()"
   ],
   "id": "da760abcfbe32fa9",
   "execution_count": 6,
   "outputs": []
  },
  {
   "metadata": {},
   "cell_type": "markdown",
   "source": "## Upload",
   "id": "7d586f11b9cc3176"
  },
  {
   "metadata": {
    "ExecuteTime": {
     "end_time": "2024-05-31T02:54:18.508202Z",
     "start_time": "2024-05-31T02:32:44.051196Z"
    }
   },
   "cell_type": "code",
   "source": [
    "tokenizer.push_to_hub(\n",
    "    repo_id=repo_id,\n",
    "    use_temp_dir=False\n",
    ")\n",
    "model.push_to_hub(\n",
    "    repo_id= repo_id,\n",
    "    use_temp_dir=False\n",
    ")"
   ],
   "id": "37edc637f9999a55",
   "execution_count": 7,
   "outputs": []
  }
 ],
 "metadata": {
  "kernelspec": {
   "display_name": "Python 3",
   "language": "python",
   "name": "python3"
  },
  "language_info": {
   "codemirror_mode": {
    "name": "ipython",
    "version": 2
   },
   "file_extension": ".py",
   "mimetype": "text/x-python",
   "name": "python",
   "nbconvert_exporter": "python",
   "pygments_lexer": "ipython2",
   "version": "2.7.6"
  }
 },
 "nbformat": 4,
 "nbformat_minor": 5
}
